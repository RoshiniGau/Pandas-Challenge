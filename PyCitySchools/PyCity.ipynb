{
 "cells": [
  {
   "cell_type": "code",
   "execution_count": null,
   "metadata": {},
   "outputs": [],
   "source": [
    "import pandas as pd\n",
    "import numpy as np"
   ]
  },
  {
   "cell_type": "code",
   "execution_count": null,
   "metadata": {},
   "outputs": [],
   "source": [
    "# File to Load (Remember to Change These)\n",
    "School_Data_To_Load =\"../Resources/schools_complete.csv\"\n",
    "Student_Data_To_Load = \"../Resources/students_complete.csv\""
   ]
  },
  {
   "cell_type": "code",
   "execution_count": null,
   "metadata": {},
   "outputs": [],
   "source": [
    "# Read School and Student Data file and store into Pandas dataframes\n",
    "School_Data = pd.read_csv(School_Data_To_Load)\n",
    "Student_Data = pd.read_csv(Student_Data_To_Load)"
   ]
  },
  {
   "cell_type": "code",
   "execution_count": 2,
   "metadata": {},
   "outputs": [
    {
     "ename": "NameError",
     "evalue": "name 'pd' is not defined",
     "output_type": "error",
     "traceback": [
      "\u001b[1;31m---------------------------------------------------------------------------\u001b[0m",
      "\u001b[1;31mNameError\u001b[0m                                 Traceback (most recent call last)",
      "\u001b[1;32m<ipython-input-2-04dd98dde9ea>\u001b[0m in \u001b[0;36m<module>\u001b[1;34m\u001b[0m\n\u001b[0;32m      1\u001b[0m \u001b[1;31m# Combine the data into a single dataset.\u001b[0m\u001b[1;33m\u001b[0m\u001b[1;33m\u001b[0m\u001b[1;33m\u001b[0m\u001b[0m\n\u001b[1;32m----> 2\u001b[1;33m \u001b[0mSchool_Data_Complete\u001b[0m \u001b[1;33m=\u001b[0m \u001b[0mpd\u001b[0m\u001b[1;33m.\u001b[0m\u001b[0mmerge\u001b[0m\u001b[1;33m(\u001b[0m\u001b[0mStudent_Data\u001b[0m\u001b[1;33m,\u001b[0m \u001b[0mSchool_Data\u001b[0m\u001b[1;33m,\u001b[0m \u001b[0mhow\u001b[0m\u001b[1;33m=\u001b[0m\u001b[1;34m\"left\"\u001b[0m\u001b[1;33m,\u001b[0m \u001b[0mon\u001b[0m\u001b[1;33m=\u001b[0m\u001b[1;33m[\u001b[0m\u001b[1;34m\"school_name\"\u001b[0m\u001b[1;33m,\u001b[0m \u001b[1;34m\"school_name\"\u001b[0m\u001b[1;33m]\u001b[0m\u001b[1;33m)\u001b[0m\u001b[1;33m\u001b[0m\u001b[1;33m\u001b[0m\u001b[0m\n\u001b[0m\u001b[0;32m      3\u001b[0m \u001b[0mSchool_Data_Complete\u001b[0m \u001b[1;33m.\u001b[0m\u001b[0mhead\u001b[0m\u001b[1;33m(\u001b[0m\u001b[1;33m)\u001b[0m\u001b[1;33m\u001b[0m\u001b[1;33m\u001b[0m\u001b[0m\n",
      "\u001b[1;31mNameError\u001b[0m: name 'pd' is not defined"
     ]
    }
   ],
   "source": [
    "# Combine the data into a single dataset.  \n",
    "School_Data_Complete = pd.merge(Student_Data, School_Data, how=\"left\", on=[\"school_name\", \"school_name\"])\n",
    "School_Data_Complete .head()"
   ]
  },
  {
   "cell_type": "code",
   "execution_count": null,
   "metadata": {},
   "outputs": [],
   "source": [
    "##District Summary\n",
    "\n",
    "#Calculate the total number of schools\n",
    "\n",
    "Total_Schools_df=len(School_Data_Complete [\"school_name\"].unique())\n",
    "Total_Schools_df"
   ]
  },
  {
   "cell_type": "code",
   "execution_count": null,
   "metadata": {},
   "outputs": [],
   "source": [
    "#Calculate the total number of students\n",
    "\n",
    "Total_Students_df=len(School_Data_Complete[\"student_name\"].unique())\n",
    "Total_Students_df"
   ]
  },
  {
   "cell_type": "code",
   "execution_count": null,
   "metadata": {},
   "outputs": [],
   "source": [
    "# Calculate the total budget \n",
    "\n",
    "Total_Budget_df=School_Data_Complete [\"budget\"].sum()\n",
    "Total_Budget_df"
   ]
  },
  {
   "cell_type": "code",
   "execution_count": null,
   "metadata": {},
   "outputs": [],
   "source": [
    "# Calculate the average math score of students\n",
    "\n",
    "Avg_Math=School_Data_Complete [\"math_score\"].mean()\n",
    "Avg_Math"
   ]
  },
  {
   "cell_type": "code",
   "execution_count": null,
   "metadata": {},
   "outputs": [],
   "source": [
    "#Calculate the average reading score of students\n",
    "\n",
    "Avg_Read=School_Data_Complete [\"reading_score\"].mean()\n",
    "Avg_Read"
   ]
  },
  {
   "cell_type": "code",
   "execution_count": null,
   "metadata": {},
   "outputs": [],
   "source": [
    "#Calculate the percentage of students with a passing math score (70 or greater)\n",
    "\n",
    "Pass_Math=School_Data_Complete [\"math_score\"] >= 70\n",
    "Percent_Math=(Pass_Math.value_counts(\"True\")) * 100\n",
    "Percent_Math=float(Percent_Math[True])\n",
    "Percent_Math"
   ]
  },
  {
   "cell_type": "code",
   "execution_count": null,
   "metadata": {},
   "outputs": [],
   "source": [
    "#Calculate the percentage of students with a passing reading score (70 or greater)\n",
    "\n",
    "Pass_Read=School_Data_Complete [\"reading_score\"] >= 70\n",
    "Percent_Read=(Pass_Read.value_counts(\"True\")) * 100\n",
    "Percent_Read=float(Percent_Read[True])\n",
    "Percent_Read"
   ]
  },
  {
   "cell_type": "code",
   "execution_count": null,
   "metadata": {},
   "outputs": [],
   "source": [
    "#Calculate the percentage of students who passed math and reading (% Overall Passing)\n",
    "\n",
    "Total_Pass=(Percent_Math + Percent_Read)/2\n",
    "Total_Pass"
   ]
  },
  {
   "cell_type": "code",
   "execution_count": null,
   "metadata": {},
   "outputs": [],
   "source": [
    "#Calculate the percentage of students who passed math and reading (% Overall Passing)\n",
    "\n",
    "Total_Pass=(Percent_Math + Percent_Read)/2\n",
    "Total_Pass\n",
    "\n",
    "#Collecting data and putting them in a dataframe\n",
    "\n",
    "District_Summary=pd.DataFrame({\"Total Schools\":Total_Schools_df,\"Total Students\":Total_Students_df,\n",
    "\"Total Budget\":Total_Budget_df,\"Average Math Score\":Avg_Math,\"Average Reading Score\":Avg_Read,\n",
    "\"% Passing Math\":Percent_Math,\"% Passing Reading\":Percent_Read,\"% Overall Passing\":[Total_Pass]})\n",
    "\n",
    "#Reorganize columns with double brackets\n",
    "\n",
    "District_Summary=District_Summary[[\"Total Schools\",\"Total Students\",\"Total Budget\",\n",
    "\"Average Math Score\",\"Average Reading Score\",\"% Passing Math\",\"% Passing Reading\",\n",
    "\"% Overall Passing\"]]\n",
    "District_Summary"
   ]
  },
  {
   "cell_type": "code",
   "execution_count": null,
   "metadata": {},
   "outputs": [],
   "source": [
    "#Displaying data in a clean format\n",
    "\n",
    "District_Summary[\"Total Students\"] = District_Summary[\"Total Students\"].map('{:,}'.format)\n",
    "District_Summary[\"Total Budget\"] = District_Summary[\"Total Budget\"].map('${:,.2f}'.format)\n",
    "\n",
    "District_Summary"
   ]
  },
  {
   "cell_type": "code",
   "execution_count": null,
   "metadata": {},
   "outputs": [],
   "source": [
    "##School Summary\n",
    "\n",
    "#Selecting reading score and math score from dataframe\n",
    "\n",
    "Avg_Scores=School_Data_Complete.drop([\"Student ID\",\"School ID\",\"size\",\"budget\"],axis=1).groupby(\"school_name\").mean()\n",
    "Avg_Scores"
   ]
  },
  {
   "cell_type": "code",
   "execution_count": null,
   "metadata": {},
   "outputs": [],
   "source": [
    "#Selecting no of students from dataframe\n",
    "\n",
    "No_Student = School_Data_Complete.drop([\"Student ID\",\"gender\",\"grade\",\"School ID\",\"math_score\",\"reading_score\",\n",
    "\"type\",\"size\",\"budget\"],axis=1).groupby(\"school_name\").count()\n",
    "No_Student"
   ]
  },
  {
   "cell_type": "code",
   "execution_count": null,
   "metadata": {},
   "outputs": [],
   "source": [
    "#Merging two dataframes together \n",
    "\n",
    "Temp_Data1 = pd.merge(Avg_Scores,No_Student,on=\"school_name\",how=\"outer\")\n",
    "Temp_Data1"
   ]
  },
  {
   "cell_type": "code",
   "execution_count": null,
   "metadata": {},
   "outputs": [],
   "source": [
    "# Selecting budget \n",
    "\n",
    "Budget_Total=School_Data_Complete.drop([\"Student ID\", \"gender\", \"grade\", \"reading_score\", \"math_score\", \"School ID\", \"type\", \"size\", \"student_name\"], axis=1).groupby(\"school_name\").max()\n",
    "Budget_Total"
   ]
  },
  {
   "cell_type": "code",
   "execution_count": null,
   "metadata": {},
   "outputs": [],
   "source": [
    "# Merge the previous budget to previous dataframe\n",
    "\n",
    "Temp_Data2=pd.merge(Temp_Data1,Budget_Total,on=\"school_name\",how=\"outer\")\n",
    "Temp_Data2"
   ]
  },
  {
   "cell_type": "code",
   "execution_count": null,
   "metadata": {},
   "outputs": [],
   "source": [
    "#Selecting school type from dataframe\n",
    "\n",
    "Type_School=School_Data_Complete.drop([\"Student ID\", \"gender\", \"grade\", \"reading_score\", \"math_score\", \"School ID\", \"size\", \"budget\", \"student_name\"], axis=1).groupby(\"school_name\").min()\n",
    "Type_School"
   ]
  },
  {
   "cell_type": "code",
   "execution_count": null,
   "metadata": {},
   "outputs": [],
   "source": [
    "#Calculate per student budget\n",
    "\n",
    "Budget_Per_Student=Temp_Data2[\"budget\"] / Temp_Data2[\"student_name\"]\n",
    "Budget_Per_Student"
   ]
  },
  {
   "cell_type": "code",
   "execution_count": null,
   "metadata": {},
   "outputs": [],
   "source": [
    "#Adding budget per student to dataframe\n",
    "\n",
    "Temp_Data2[\"Budget per Student\"]=Budget_Per_Student\n",
    "Temp_Data2"
   ]
  },
  {
   "cell_type": "code",
   "execution_count": null,
   "metadata": {},
   "outputs": [],
   "source": [
    "#Adding school type to dataframe\n",
    "\n",
    "Temp_Data2[\"School Type\"]=Type_School\n",
    "Temp_Data2"
   ]
  },
  {
   "cell_type": "code",
   "execution_count": null,
   "metadata": {},
   "outputs": [],
   "source": [
    "#Renaming the column names in the dataframe \n",
    "\n",
    "Temp_Data2=Temp_Data2.rename(columns={\"student_name\":\"Total Students\",\"Budget per Student\":\"Per Student Budget\",\n",
    "\"budget\":\"Total School Budget\",\"reading_score\":\"Average Reading Score\",\"math_score\":\"Average Math Score\"})\n",
    "Temp_Data2"
   ]
  },
  {
   "cell_type": "code",
   "execution_count": null,
   "metadata": {},
   "outputs": [],
   "source": [
    "#Grouping the data based on math score\n",
    "\n",
    "Group_Math=School_Data_Complete[School_Data_Complete[\"math_score\"] >= 70].groupby([\"school_name\"],as_index=False)\n",
    "Pass_Math = (pd.DataFrame(Group_Math[\"math_score\"].count()))\n",
    "Pass_Math.columns = [\"school_name\",\"Pass_math\"]\n",
    "Pass_Math"
   ]
  },
  {
   "cell_type": "code",
   "execution_count": null,
   "metadata": {},
   "outputs": [],
   "source": [
    "#Grouping the data based on reading score\n",
    "\n",
    "Group_Read = School_Data_Complete[School_Data_Complete[\"reading_score\"] >= 70].groupby([\"school_name\"],as_index=False)\n",
    "Pass_Read = (pd.DataFrame(Group_Math[\"reading_score\"].count()))\n",
    "Pass_Read.columns = [\"school_name\",\"Pass_read\"]\n",
    "Pass_Read"
   ]
  },
  {
   "cell_type": "code",
   "execution_count": null,
   "metadata": {},
   "outputs": [],
   "source": [
    "# Merging the grouped data \n",
    "\n",
    "Temp_Data3 = pd.merge(Temp_Data2 , Pass_Read, on=\"school_name\", how=\"left\")\n",
    "Temp_Data3"
   ]
  },
  {
   "cell_type": "code",
   "execution_count": null,
   "metadata": {},
   "outputs": [],
   "source": [
    "# Merging the grouped data \n",
    "\n",
    "Temp_Data4 = pd.merge(Temp_Data3, Pass_Math, on=\"school_name\", how=\"left\")\n",
    "Temp_Data4"
   ]
  },
  {
   "cell_type": "code",
   "execution_count": null,
   "metadata": {},
   "outputs": [],
   "source": [
    "#Calculate the passing percentage and displaying the data\n",
    "\n",
    "Math_Pass_Percent = (Temp_Data4[\"Pass_math\"] / Temp_Data4[\"Total Students\"])*100\n",
    "\n",
    "Read_Pass_Percent = (Temp_Data4[\"Pass_read\"] / Temp_Data4[\"Total Students\"])*100\n",
    "\n",
    "Overall_Pass_Rate = (Math_Pass_Percent + Read_Pass_Percent)/2\n",
    "\n",
    "Temp_Data4[\"% Passing Math\"] = Math_Pass_Percent\n",
    "\n",
    "Temp_Data4[\"% Passing Reading\"] = Read_Pass_Percent\n",
    "\n",
    "Temp_Data4[\"% Overall Passing\"] = Overall_Pass_Rate\n",
    "\n",
    "Temp_Data4.drop([\"Pass_read\", \"Pass_math\"], axis=1)\n",
    "\n",
    "School_Summary = Temp_Data4.copy()\n",
    "\n",
    "School_Summary"
   ]
  },
  {
   "cell_type": "code",
   "execution_count": null,
   "metadata": {},
   "outputs": [],
   "source": [
    "## Top Performing Schools(By % Overall Passing )\n",
    "\n",
    "# Sort and display the top five performing schools by % overall passing\n",
    "\n",
    "Sort_Schools=School_Summary.sort_values(\"% Overall Passing\",ascending=False)\n",
    "\n",
    "Sort_Schools.head(5)"
   ]
  },
  {
   "cell_type": "code",
   "execution_count": null,
   "metadata": {},
   "outputs": [],
   "source": [
    "## Bottom Performing Schools(By % Overall Passing)\n",
    "\n",
    "# Sort and display the five worst performing by % overall passing\n",
    "\n",
    "Sort_Schools_Bottom=School_Summary.sort_values(\"% Overall Passing\",ascending=True)\n",
    "\n",
    "Sort_Schools_Bottom.head(5)"
   ]
  },
  {
   "cell_type": "code",
   "execution_count": null,
   "metadata": {},
   "outputs": [],
   "source": [
    "## Math Scores by Grade\n",
    "\n",
    "#Create a pandas series for each grade\n",
    "\n",
    "Ninth = School_Data_Complete[(School_Data_Complete[\"grade\"] == \"9th\")]\n",
    "Tenth = School_Data_Complete[(School_Data_Complete[\"grade\"] ==\"10th\")]\n",
    "Eleventh = School_Data_Complete[(School_Data_Complete[\"grade\"]== \"11th\")]\n",
    "Twelfth = School_Data_Complete[(School_Data_Complete[\"grade\"] == \"12th\")]\n",
    "\n",
    "#Group each series by school\n",
    "\n",
    "Ninth_Scores = Ninth.groupby([\"school_name\"]).mean()[\"math_score\"]\n",
    "Tenth_Scores = Tenth.groupby([\"school_name\"]).mean()[\"math_score\"]\n",
    "Eleventh_Scores = Eleventh.groupby([\"school_name\"]).mean()[\"math_score\"]\n",
    "Twelfth_Scores = Twelfth.groupby([\"school_name\"]).mean()[\"math_score\"]\n",
    "\n",
    "#Combine the series into a dataframe\n",
    "\n",
    "Grade_Score=pd.DataFrame({\"9th\": Ninth_Scores,\"10th\" : Tenth_Scores,\"11th\" : Eleventh_Scores,\"12th\" : Twelfth_Scores})\n",
    "Grade_Score.index.Name=None\n",
    "Grade_Score=Grade_Score[[\"9th\",\"10th\",\"11th\",\"12th\"]]\n",
    "Grade_Score"
   ]
  },
  {
   "cell_type": "code",
   "execution_count": null,
   "metadata": {},
   "outputs": [],
   "source": [
    "## Reading Score by Grade\n",
    "\n",
    "#Create a pandas series for each grade\n",
    "\n",
    "Ninth = School_Data_Complete[(School_Data_Complete[\"grade\"] == \"9th\")]\n",
    "Tenth = School_Data_Complete[(School_Data_Complete[\"grade\"] ==\"10th\")]\n",
    "Eleventh = School_Data_Complete[(School_Data_Complete[\"grade\"]== \"11th\")]\n",
    "Twelfth = School_Data_Complete[(School_Data_Complete[\"grade\"] == \"12th\")]\n",
    "\n",
    "#Group each series by school\n",
    "Ninth_Scores_Read = Ninth.groupby([\"school_name\"]).mean()[\"reading_score\"]\n",
    "Tenth_Scores_Read = Tenth.groupby([\"school_name\"]).mean()[\"reading_score\"]\n",
    "Eleventh_Scores_Read = Eleventh.groupby([\"school_name\"]).mean()[\"reading_score\"]\n",
    "Twelfth_Scores_Read = Twelfth.groupby([\"school_name\"]).mean()[\"reading_score\"]\n",
    "\n",
    "#Combine the series into a dataframe\n",
    "Grade_Score_Read=pd.DataFrame({\"9th\": Ninth_Scores_Read,\"10th\" : Tenth_Scores_Read,\"11th\" : Eleventh_Scores_Read,\"12th\" : Twelfth_Scores_Read})\n",
    "Grade_Score_Read.index.name=None\n",
    "Grade_Score_Read=Grade_Score_Read[[\"9th\",\"10th\",\"11th\",\"12th\"]]\n",
    "Grade_Score"
   ]
  },
  {
   "cell_type": "code",
   "execution_count": null,
   "metadata": {},
   "outputs": [],
   "source": [
    "##Scores by School Spending\n",
    "\n",
    "# Create the bins ( school spending )\n",
    "Spending_Bins = [0, 585, 615, 645, 675]\n",
    "\n",
    "# Names for the bins\n",
    "Spending_Range = [\"<$585\", \"$585-615\", \"$615-645\", \"$645-675\"]\n",
    "\n",
    "Spending_Ranges= pd.cut(School_Summary[\"Per Student Budget\"],Spending_Bins, labels=Spending_Range)\n",
    "\n",
    "#Spending_Ranges\n",
    "\n",
    "School_Summary[\"Budget per Student Range\"] = Spending_Ranges\n",
    "\n",
    "#School_Summary\n",
    "\n",
    "Budget_Groups = School_Summary.groupby(by=\"Budget per Student Range\")\n",
    "\n",
    "#Budget_Groups\n",
    "Budget_Groups = Budget_Groups[[\"Average Reading Score\",\"Average Math Score\",\"% Passing Math\",\"% Passing Reading\",\"% Overall Passing\"]].mean()\n",
    "Budget_Groups "
   ]
  },
  {
   "cell_type": "code",
   "execution_count": null,
   "metadata": {},
   "outputs": [],
   "source": [
    "#Scores by school size\n",
    "# Create new column based on school size bins\n",
    "Bins = [0, 1000, 2000, 5000]\n",
    "Names = ['Small (< 1000)', 'Medium (1000 - 2000)', 'Large (2000 - 5000)']\n",
    "\n",
    "Size_Series = pd.cut(School_Summary[\"Total Students\"], Bins, labels=Names)\n",
    "School_Summary[\"School Size\"] = Size_Series\n",
    "Size_Groups = School_Summary.groupby(by=\"School Size\")\n",
    "Size_Groups = Size_Groups[[\"Average Reading Score\",\"Average Math Score\",\"% Passing Math\",\"% Passing Reading\",\"% Overall Passing\"]].mean()\n",
    "Size_Groups\n"
   ]
  },
  {
   "cell_type": "code",
   "execution_count": null,
   "metadata": {},
   "outputs": [],
   "source": [
    "## Simple group by on Type (Charter/District)\n",
    "\n",
    "Size_Groups = School_Summary.groupby(by=\"School Type\")\n",
    "Size_Groups = Size_Groups[[\"Average Reading Score\",\"Average Math Score\",\"% Passing Math\",\"% Passing Reading\",\"% Overall Passing\"]].mean()\n",
    "Size_Groups\n",
    "\n"
   ]
  }
 ],
 "metadata": {
  "kernelspec": {
   "display_name": "Python 3",
   "language": "python",
   "name": "python3"
  },
  "language_info": {
   "codemirror_mode": {
    "name": "ipython",
    "version": 3
   },
   "file_extension": ".py",
   "mimetype": "text/x-python",
   "name": "python",
   "nbconvert_exporter": "python",
   "pygments_lexer": "ipython3",
   "version": "3.7.6"
  }
 },
 "nbformat": 4,
 "nbformat_minor": 2
}
